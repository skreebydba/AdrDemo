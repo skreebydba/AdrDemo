{
    "metadata": {
        "kernelspec": {
            "name": "SQL",
            "display_name": "SQL",
            "language": "sql"
        },
        "language_info": {
            "name": "sql",
            "version": ""
        }
    },
    "nbformat_minor": 2,
    "nbformat": 4,
    "cells": [
        {
            "cell_type": "markdown",
            "source": [
                "# A Crash Course in Accelerated Database Recovery\n",
                "\n",
                "Create a database\n",
                "\n",
                "Create a table\n",
                "\n",
                "Insert 1 million rows into the table\n",
                "\n",
                "This script ran for about 30 minutes on my laptop, so..."
            ],
            "metadata": {
                "azdata_cell_guid": "489ee36f-8f52-474e-acc7-31fb93c95a0f"
            }
        },
        {
            "cell_type": "code",
            "source": [
                "USE master;\n",
                "\n",
                "SET NOCOUNT ON;\n",
                "\n",
                "DROP DATABASE IF EXISTS AdrDb;\n",
                "\n",
                "CREATE DATABASE AdrDb;\n",
                "GO\n",
                "\n",
                "DROP TABLE IF EXISTS AdrTest;\n",
                "\n",
                "USE AdrDb;\n",
                "\n",
                "CREATE TABLE AdrTest\n",
                "(RowId INT IDENTITY(1,1)\n",
                ",FirstName NVARCHAR(100)\n",
                ",LastName NVARCHAR(100));\n",
                "\n",
                "DECLARE @loopcount INT, \n",
                "@looplimit INT;\n",
                "\n",
                "SELECT @loopcount = 1, @looplimit = 2500;\n",
                "\n",
                "WHILE @loopcount <= @looplimit\n",
                "BEGIN\n",
                "\n",
                "    INSERT INTO AdrTest\n",
                "    (FirstName\n",
                "    ,LastName)\n",
                "    VALUES\n",
                "    (N'Terence',N'Butler'),\n",
                "    (N'John',N'Osbourne'),\n",
                "    (N'Anthony',N'Iommi'),\n",
                "    (N'William',N'Ward');\n",
                "\n",
                "    SELECT @loopcount += 1;\n",
                "\n",
                "END"
            ],
            "metadata": {
                "azdata_cell_guid": "40ea6d6c-a9ad-4a18-84e5-e0f1f47d6f73"
            },
            "outputs": [
{
    "output_type": "display_data",
    "data": {
        "text/html": "Commands completed successfully."
    },
    "metadata": {}
}, {
    "output_type": "display_data",
    "data": {
        "text/html": "Commands completed successfully."
    },
    "metadata": {}
}, {
    "output_type": "display_data",
    "data": {
        "text/html": "Total execution time: 00:00:19.965"
    },
    "metadata": {}
}
],
            "execution_count": 91
        },
        {
            "cell_type": "markdown",
            "source": [
                "# Backup Database to Default location\n",
                "\n",
                "To prevent having to spend 30 minutes loading data, backup the database to the default backup path\n",
                "\n",
                "For the Linux container I am running on, the default path is <span style=\"color: rgb(163, 21, 21); font-family: Consolas, &quot;Courier New&quot;, monospace; font-size: 16px; white-space: pre;\">/var/opt/mssql/data/</span>"
            ],
            "metadata": {
                "azdata_cell_guid": "3376ca1c-dc81-4301-88eb-e2fc18bb7922"
            }
        },
        {
            "cell_type": "code",
            "source": [
                "USE master\r\n",
                "BACKUP DATABASE AdrDb TO DISK=N'/var/opt/mssql/data/AdrDb.bak';  "
            ],
            "metadata": {
                "azdata_cell_guid": "c98ef502-18d7-486e-beac-29f05f8f10a0"
            },
            "outputs": [
{
    "output_type": "display_data",
    "data": {
        "text/html": "Processed 384 pages for database 'AdrDb', file 'AdrDb' on file 1."
    },
    "metadata": {}
}, {
    "output_type": "display_data",
    "data": {
        "text/html": "Processed 2 pages for database 'AdrDb', file 'AdrDb_log' on file 1."
    },
    "metadata": {}
}, {
    "output_type": "display_data",
    "data": {
        "text/html": "BACKUP DATABASE successfully processed 386 pages in 0.164 seconds (18.364 MB/sec)."
    },
    "metadata": {}
}, {
    "output_type": "display_data",
    "data": {
        "text/html": "Total execution time: 00:00:00.382"
    },
    "metadata": {}
}
],
            "execution_count": null
        },
        {
            "cell_type": "markdown",
            "source": [
                "# Restore Database\n",
                "\n",
                "For subsequent runs of the demo, restore the database from backup"
            ],
            "metadata": {
                "azdata_cell_guid": "c46c8e03-4850-40e1-88bc-3561efe0bbc0"
            }
        },
        {
            "cell_type": "code",
            "source": [
                "USE master;\r\n",
                "\r\n",
                "ALTER DATABASE AdrDb\r\n",
                "SET SINGLE_USER WITH ROLLBACK IMMEDIATE\r\n",
                "\r\n",
                "RESTORE DATABASE AdrDb FROM DISK=N'/var/opt/mssql/data/AdrDb.bak' WITH REPLACE, STATS = 5;"
            ],
            "metadata": {
                "azdata_cell_guid": "782e3ecd-d035-4591-a7d9-9fca6ffc191b"
            },
            "outputs": [
{
    "output_type": "display_data",
    "data": {
        "text/html": "6 percent processed."
    },
    "metadata": {}
}, {
    "output_type": "display_data",
    "data": {
        "text/html": "10 percent processed."
    },
    "metadata": {}
}, {
    "output_type": "display_data",
    "data": {
        "text/html": "15 percent processed."
    },
    "metadata": {}
}, {
    "output_type": "display_data",
    "data": {
        "text/html": "21 percent processed."
    },
    "metadata": {}
}, {
    "output_type": "display_data",
    "data": {
        "text/html": "25 percent processed."
    },
    "metadata": {}
}, {
    "output_type": "display_data",
    "data": {
        "text/html": "30 percent processed."
    },
    "metadata": {}
}, {
    "output_type": "display_data",
    "data": {
        "text/html": "36 percent processed."
    },
    "metadata": {}
}, {
    "output_type": "display_data",
    "data": {
        "text/html": "41 percent processed."
    },
    "metadata": {}
}, {
    "output_type": "display_data",
    "data": {
        "text/html": "45 percent processed."
    },
    "metadata": {}
}, {
    "output_type": "display_data",
    "data": {
        "text/html": "51 percent processed."
    },
    "metadata": {}
}, {
    "output_type": "display_data",
    "data": {
        "text/html": "56 percent processed."
    },
    "metadata": {}
}, {
    "output_type": "display_data",
    "data": {
        "text/html": "60 percent processed."
    },
    "metadata": {}
}, {
    "output_type": "display_data",
    "data": {
        "text/html": "66 percent processed."
    },
    "metadata": {}
}, {
    "output_type": "display_data",
    "data": {
        "text/html": "71 percent processed."
    },
    "metadata": {}
}, {
    "output_type": "display_data",
    "data": {
        "text/html": "75 percent processed."
    },
    "metadata": {}
}, {
    "output_type": "display_data",
    "data": {
        "text/html": "82 percent processed."
    },
    "metadata": {}
}, {
    "output_type": "display_data",
    "data": {
        "text/html": "86 percent processed."
    },
    "metadata": {}
}, {
    "output_type": "display_data",
    "data": {
        "text/html": "90 percent processed."
    },
    "metadata": {}
}, {
    "output_type": "display_data",
    "data": {
        "text/html": "95 percent processed."
    },
    "metadata": {}
}, {
    "output_type": "display_data",
    "data": {
        "text/html": "100 percent processed."
    },
    "metadata": {}
}, {
    "output_type": "display_data",
    "data": {
        "text/html": "Processed 384 pages for database 'AdrDb', file 'AdrDb' on file 1."
    },
    "metadata": {}
}, {
    "output_type": "display_data",
    "data": {
        "text/html": "Processed 2 pages for database 'AdrDb', file 'AdrDb_log' on file 1."
    },
    "metadata": {}
}, {
    "output_type": "display_data",
    "data": {
        "text/html": "RESTORE DATABASE successfully processed 386 pages in 0.137 seconds (21.983 MB/sec)."
    },
    "metadata": {}
}, {
    "output_type": "display_data",
    "data": {
        "text/html": "Total execution time: 00:00:01.638"
    },
    "metadata": {}
}
],
            "execution_count": null
        },
        {
            "cell_type": "markdown",
            "source": [
                "# Check if Accelerated Database Recovery is Enabled"
            ],
            "metadata": {
                "azdata_cell_guid": "49166c57-6918-49de-ab4d-273c931be94d"
            }
        },
        {
            "cell_type": "code",
            "source": [
                "USE AdrDb;\n",
                "\n",
                "SELECT name, is_accelerated_database_recovery_on\n",
                "FROM sys.databases\n",
                "WHERE name = N'AdrDb';"
            ],
            "metadata": {
                "azdata_cell_guid": "055ce3a6-34ff-46ea-8821-5436dacbaefb"
            },
            "outputs": [
{
    "output_type": "display_data",
    "data": {
        "text/html": "Commands completed successfully."
    },
    "metadata": {}
}, {
    "output_type": "display_data",
    "data": {
        "text/html": "Total execution time: 00:00:00.053"
    },
    "metadata": {}
}, {
    "output_type": "execute_result",
    "metadata": {},
    "execution_count": 10,
    "data": {
        "application/vnd.dataresource+json": {
            "schema": {
                "fields": [
                    {
                        "name": "name"
                    },
                    {
                        "name": "is_accelerated_database_recovery_on"
                    }
                ]
            },
            "data": [
                {
                    "0": "AdrDb",
                    "1": "0"
                }
            ]
        },
        "text/html": [
            "<table>",
            "<tr><th>name</th><th>is_accelerated_database_recovery_on</th></tr>",
            "<tr><td>AdrDb</td><td>0</td></tr>",
            "</table>"
        ]
    }
}
],
            "execution_count": null
        },
        {
            "cell_type": "markdown",
            "source": [
                "# Delete Rows without ADR\n",
                "This steo performs the following steps:\n",
                "- Select and store the last log sequence for the database using fn\\_dblog\n",
                "- Delete 2500 rows from the table in an open transaction\n",
                "- Use fn\\_dblog to get a count of the delete operations from the transaction log\n",
                "- Select and store the last log sequence for the database using fn\\_dblog\n",
                "- Rollback the delete transaction\n",
                "- Use fn\\_dblog to get a count of the compensation records from the transaction log"
            ],
            "metadata": {
                "azdata_cell_guid": "6b41639f-c6d0-47d3-bc1e-891c578a6f86"
            }
        },
        {
            "cell_type": "code",
            "source": [
                "USE AdrDb;\r\n",
                "\r\n",
                "DECLARE @maxlsn NVARCHAR(46);\r\n",
                "\r\n",
                "SELECT @maxlsn = CONCAT(N'0x',MAX([Current LSN])) FROM fn_dblog(NULL,NULL);\r\n",
                "\r\n",
                "BEGIN TRANSACTION\r\n",
                "\r\n",
                "DELETE FROM AdrTest\r\n",
                "WHERE LastName = 'Osbourne';\r\n",
                "\r\n",
                "SELECT Operation\r\n",
                ",[Description]\r\n",
                ",AllocUnitName\r\n",
                ",COUNT(*) AS TranCount\r\n",
                "FROM fn_dblog(@maxlsn,NULL)\r\n",
                "WHERE Operation = 'LOP_DELETE_ROWS'\r\n",
                "GROUP BY Operation, [Description],AllocUnitName;\r\n",
                "GO\r\n",
                "\r\n",
                "DECLARE @maxlsn NVARCHAR(46);\r\n",
                "\r\n",
                "SELECT @maxlsn = CONCAT(N'0x',MAX([Current LSN])) FROM fn_dblog(NULL,NULL);\r\n",
                "\r\n",
                "ROLLBACK TRANSACTION;\r\n",
                "\r\n",
                "SELECT Operation\r\n",
                ",[Description]\r\n",
                ",AllocUnitName\r\n",
                ",COUNT(*) AS TranCount\r\n",
                "FROM fn_dblog(@maxlsn,NULL)\r\n",
                "WHERE [Description] = 'Compensation'\r\n",
                "GROUP BY Operation, [Description],AllocUnitName;\r\n",
                "GO"
            ],
            "metadata": {
                "azdata_cell_guid": "bd71132c-1b47-47fa-8351-9dc489910a24",
                "tags": []
            },
            "outputs": [
{
    "output_type": "display_data",
    "data": {
        "text/html": "Commands completed successfully."
    },
    "metadata": {}
}, {
    "output_type": "display_data",
    "data": {
        "text/html": "Commands completed successfully."
    },
    "metadata": {}
}, {
    "output_type": "display_data",
    "data": {
        "text/html": "Total execution time: 00:00:00.182"
    },
    "metadata": {}
}, {
    "output_type": "execute_result",
    "metadata": {},
    "execution_count": 11,
    "data": {
        "application/vnd.dataresource+json": {
            "schema": {
                "fields": [
                    {
                        "name": "Operation"
                    },
                    {
                        "name": "Description"
                    },
                    {
                        "name": "AllocUnitName"
                    },
                    {
                        "name": "TranCount"
                    }
                ]
            },
            "data": [
                {
                    "0": "LOP_DELETE_ROWS",
                    "1": "",
                    "2": "dbo.AdrTest",
                    "3": "2500"
                }
            ]
        },
        "text/html": [
            "<table>",
            "<tr><th>Operation</th><th>Description</th><th>AllocUnitName</th><th>TranCount</th></tr>",
            "<tr><td>LOP_DELETE_ROWS</td><td></td><td>dbo.AdrTest</td><td>2500</td></tr>",
            "</table>"
        ]
    }
}, {
    "output_type": "execute_result",
    "metadata": {},
    "execution_count": 11,
    "data": {
        "application/vnd.dataresource+json": {
            "schema": {
                "fields": [
                    {
                        "name": "Operation"
                    },
                    {
                        "name": "Description"
                    },
                    {
                        "name": "AllocUnitName"
                    },
                    {
                        "name": "TranCount"
                    }
                ]
            },
            "data": [
                {
                    "0": "LOP_INSERT_ROWS",
                    "1": "COMPENSATION",
                    "2": "dbo.AdrTest",
                    "3": "2500"
                }
            ]
        },
        "text/html": [
            "<table>",
            "<tr><th>Operation</th><th>Description</th><th>AllocUnitName</th><th>TranCount</th></tr>",
            "<tr><td>LOP_INSERT_ROWS</td><td>COMPENSATION</td><td>dbo.AdrTest</td><td>2500</td></tr>",
            "</table>"
        ]
    }
}
],
            "execution_count": null
        },
        {
            "cell_type": "markdown",
            "source": [
                "# Enable Accelerated Database Recovery"
            ],
            "metadata": {
                "azdata_cell_guid": "33d88449-091b-43b1-98c7-1004a8e820bf"
            }
        },
        {
            "cell_type": "code",
            "source": [
                "USE master;\r\n",
                "\r\n",
                "ALTER DATABASE AdrDb\r\n",
                "SET ACCELERATED_DATABASE_RECOVERY = ON;\r\n",
                "\r\n",
                "SELECT name, is_accelerated_database_recovery_on\r\n",
                "FROM sys.databases\r\n",
                "WHERE name = N'AdrDb';"
            ],
            "metadata": {
                "azdata_cell_guid": "efe610e0-1cb5-4377-8966-23a205df8317"
            },
            "outputs": [
{
    "output_type": "display_data",
    "data": {
        "text/html": "Commands completed successfully."
    },
    "metadata": {}
}, {
    "output_type": "display_data",
    "data": {
        "text/html": "Total execution time: 00:00:00.074"
    },
    "metadata": {}
}, {
    "output_type": "execute_result",
    "metadata": {},
    "execution_count": 12,
    "data": {
        "application/vnd.dataresource+json": {
            "schema": {
                "fields": [
                    {
                        "name": "name"
                    },
                    {
                        "name": "is_accelerated_database_recovery_on"
                    }
                ]
            },
            "data": [
                {
                    "0": "AdrDb",
                    "1": "1"
                }
            ]
        },
        "text/html": [
            "<table>",
            "<tr><th>name</th><th>is_accelerated_database_recovery_on</th></tr>",
            "<tr><td>AdrDb</td><td>1</td></tr>",
            "</table>"
        ]
    }
}
],
            "execution_count": null
        },
        {
            "cell_type": "markdown",
            "source": [
                "# Delete Rows with ADR\n",
                "\n",
                "- Select and store the last log sequence for the database using fn\\_dblog\n",
                "- Delete 250000 rows from the table in an open transaction\n",
                "- Use fn\\_dblog to get a count of the delete operations from the transaction log"
            ],
            "metadata": {
                "azdata_cell_guid": "090d11f5-de66-4b23-bac1-b08206687406"
            }
        },
        {
            "cell_type": "code",
            "source": [
                "USE AdrDb;\r\n",
                "\r\n",
                "DECLARE @maxlsn NVARCHAR(46);\r\n",
                "\r\n",
                "SELECT @maxlsn = CONCAT(N'0x',MAX([Current LSN])) FROM fn_dblog(NULL,NULL);\r\n",
                "\r\n",
                "SELECT @maxlsn;\r\n",
                "\r\n",
                "BEGIN TRANSACTION\r\n",
                "\r\n",
                "DELETE FROM AdrTest\r\n",
                "WHERE LastName = 'Osbourne';\r\n",
                "\r\n",
                "-- SELECT Operation\r\n",
                "-- ,[Description]\r\n",
                "-- ,AllocUnitName\r\n",
                "-- ,COUNT(*) AS TranCount\r\n",
                "-- FROM fn_dblog(@maxlsn,NULL)\r\n",
                "-- -- WHERE Operation = 'LOP_INSERT_ROWS'\r\n",
                "-- GROUP BY Operation , [Description], AllocUnitName\r\n",
                "-- ORDER BY COUNT(*) DESC;\r\n",
                "\r\n",
                "-- SELECT  TOP 1 [Page Id] \r\n",
                "-- FROM fn_dblog(@maxlsn,NULL)\r\n",
                "-- WHERE Operation = 'LOP_INSERT_ROWS'\r\n",
                "-- AND AllocUnitName = N'sys.persistent_version_store';\r\n",
                "\r\n",
                "SELECT Operation\r\n",
                ",[Description]\r\n",
                ",AllocUnitName\r\n",
                ",COUNT(*) AS TranCount\r\n",
                "FROM fn_dblog(@maxlsn,NULL)\r\n",
                "WHERE Operation IN ('LOP_DELETE_ROWS', 'LOP_INSERT_ROWS')\r\n",
                "GROUP BY Operation, [Description], AllocUnitName;\r\n",
                "GO"
            ],
            "metadata": {
                "azdata_cell_guid": "464cce4c-7b5d-4f37-a5d6-822f91ea374e"
            },
            "outputs": [
{
    "output_type": "display_data",
    "data": {
        "text/html": "Commands completed successfully."
    },
    "metadata": {}
}, {
    "output_type": "display_data",
    "data": {
        "text/html": "Total execution time: 00:00:00.171"
    },
    "metadata": {}
}, {
    "output_type": "execute_result",
    "metadata": {},
    "execution_count": 13,
    "data": {
        "application/vnd.dataresource+json": {
            "schema": {
                "fields": [
                    {
                        "name": "(No column name)"
                    }
                ]
            },
            "data": [
                {
                    "0": "0x00000029:000017b0:0001"
                }
            ]
        },
        "text/html": [
            "<table>",
            "<tr><th>(No column name)</th></tr>",
            "<tr><td>0x00000029:000017b0:0001</td></tr>",
            "</table>"
        ]
    }
}, {
    "output_type": "execute_result",
    "metadata": {},
    "execution_count": 13,
    "data": {
        "application/vnd.dataresource+json": {
            "schema": {
                "fields": [
                    {
                        "name": "Operation"
                    },
                    {
                        "name": "Description"
                    },
                    {
                        "name": "AllocUnitName"
                    },
                    {
                        "name": "TranCount"
                    }
                ]
            },
            "data": [
                {
                    "0": "LOP_DELETE_ROWS",
                    "1": "",
                    "2": "dbo.AdrTest",
                    "3": "2500"
                },
                {
                    "0": "LOP_INSERT_ROWS",
                    "1": "",
                    "2": "sys.persistent_version_store",
                    "3": "1100"
                }
            ]
        },
        "text/html": [
            "<table>",
            "<tr><th>Operation</th><th>Description</th><th>AllocUnitName</th><th>TranCount</th></tr>",
            "<tr><td>LOP_DELETE_ROWS</td><td></td><td>dbo.AdrTest</td><td>2500</td></tr>",
            "<tr><td>LOP_INSERT_ROWS</td><td></td><td>sys.persistent_version_store</td><td>1100</td></tr>",
            "</table>"
        ]
    }
}
],
            "execution_count": null
        },
        {
            "cell_type": "markdown",
            "source": [
                "# Rollback Transaction with ADR\n",
                "\n",
                "- Get the last lsn from the transaction log using fn\\_dblog\n",
                "- Rollback the delete transaction\n",
                "- Get all log records after the delete\n",
                "- Check for compensation records"
            ],
            "metadata": {
                "azdata_cell_guid": "e35ebd9d-8e21-497c-880b-64f0c8d9507a"
            }
        },
        {
            "cell_type": "code",
            "source": [
                "DECLARE @maxlsn NVARCHAR(46);\r\n",
                "\r\n",
                "SELECT @maxlsn = CONCAT(N'0x',MAX([Current LSN])) FROM fn_dblog(NULL,NULL);\r\n",
                "\r\n",
                "ROLLBACK TRANSACTION;\r\n",
                "\r\n",
                "SELECT [Current LSN]\r\n",
                ",[Transaction ID]\r\n",
                ",[Transaction Name]\r\n",
                ",Operation\r\n",
                ",Context\r\n",
                ",[Description]\r\n",
                ",[Previous LSN]\r\n",
                ",AllocUnitName\r\n",
                ",[Page ID]\r\n",
                ",[Slot ID]\r\n",
                ",[Begin Time]\r\n",
                ",[Database Name]\r\n",
                ",[Number of Locks]\r\n",
                ",[Lock Information]\r\n",
                ",[New Split Page]\r\n",
                "FROM fn_dblog(@maxlsn,NULL);\r\n",
                "\r\n",
                "SELECT Operation\r\n",
                ",[Description]\r\n",
                ",COUNT(*) AS TranCount\r\n",
                "FROM fn_dblog(@maxlsn,NULL)\r\n",
                "WHERE [Description] = 'Compensation'\r\n",
                "GROUP BY Operation, [Description];\r\n",
                "GO"
            ],
            "metadata": {
                "azdata_cell_guid": "61071ce6-a990-48a0-9f94-f3700f5eaba6"
            },
            "outputs": [
{
    "output_type": "display_data",
    "data": {
        "text/html": "Commands completed successfully."
    },
    "metadata": {}
}, {
    "output_type": "display_data",
    "data": {
        "text/html": "Total execution time: 00:00:00.199"
    },
    "metadata": {}
}, {
    "output_type": "execute_result",
    "metadata": {},
    "execution_count": 14,
    "data": {
        "application/vnd.dataresource+json": {
            "schema": {
                "fields": [
                    {
                        "name": "Current LSN"
                    },
                    {
                        "name": "Transaction ID"
                    },
                    {
                        "name": "Transaction Name"
                    },
                    {
                        "name": "Operation"
                    },
                    {
                        "name": "Context"
                    },
                    {
                        "name": "Description"
                    },
                    {
                        "name": "Previous LSN"
                    },
                    {
                        "name": "AllocUnitName"
                    },
                    {
                        "name": "Page ID"
                    },
                    {
                        "name": "Slot ID"
                    },
                    {
                        "name": "Begin Time"
                    },
                    {
                        "name": "Database Name"
                    },
                    {
                        "name": "Number of Locks"
                    },
                    {
                        "name": "Lock Information"
                    },
                    {
                        "name": "New Split Page"
                    }
                ]
            },
            "data": [
                {
                    "0": "00000029:00002068:006e",
                    "1": "0000:00000d5e",
                    "2": "NULL",
                    "3": "LOP_COMMIT_XACT",
                    "4": "LCX_NULL",
                    "5": "2021/03/02 20:15:43:247",
                    "6": "00000029:00001f78:0002",
                    "7": "NULL",
                    "8": "NULL",
                    "9": "NULL",
                    "10": "NULL",
                    "11": "none",
                    "12": "NULL",
                    "13": "NULL",
                    "14": "NULL"
                },
                {
                    "0": "00000029:00002068:006f",
                    "1": "0000:00000d56",
                    "2": "NULL",
                    "3": "LOP_ABORT_XACT",
                    "4": "LCX_CTR_ABORTED",
                    "5": "2021/03/02 20:18:21:043",
                    "6": "00000029:000017c0:0001",
                    "7": "NULL",
                    "8": "NULL",
                    "9": "NULL",
                    "10": "NULL",
                    "11": "none",
                    "12": "NULL",
                    "13": "NULL",
                    "14": "NULL"
                }
            ]
        },
        "text/html": [
            "<table>",
            "<tr><th>Current LSN</th><th>Transaction ID</th><th>Transaction Name</th><th>Operation</th><th>Context</th><th>Description</th><th>Previous LSN</th><th>AllocUnitName</th><th>Page ID</th><th>Slot ID</th><th>Begin Time</th><th>Database Name</th><th>Number of Locks</th><th>Lock Information</th><th>New Split Page</th></tr>",
            "<tr><td>00000029:00002068:006e</td><td>0000:00000d5e</td><td>NULL</td><td>LOP_COMMIT_XACT</td><td>LCX_NULL</td><td>2021/03/02 20:15:43:247</td><td>00000029:00001f78:0002</td><td>NULL</td><td>NULL</td><td>NULL</td><td>NULL</td><td>none</td><td>NULL</td><td>NULL</td><td>NULL</td></tr>",
            "<tr><td>00000029:00002068:006f</td><td>0000:00000d56</td><td>NULL</td><td>LOP_ABORT_XACT</td><td>LCX_CTR_ABORTED</td><td>2021/03/02 20:18:21:043</td><td>00000029:000017c0:0001</td><td>NULL</td><td>NULL</td><td>NULL</td><td>NULL</td><td>none</td><td>NULL</td><td>NULL</td><td>NULL</td></tr>",
            "</table>"
        ]
    }
}, {
    "output_type": "execute_result",
    "metadata": {},
    "execution_count": 14,
    "data": {
        "application/vnd.dataresource+json": {
            "schema": {
                "fields": [
                    {
                        "name": "Operation"
                    },
                    {
                        "name": "Description"
                    },
                    {
                        "name": "TranCount"
                    }
                ]
            },
            "data": []
        },
        "text/html": [
            "<table>",
            "<tr><th>Operation</th><th>Description</th><th>TranCount</th></tr>",
            "</table>"
        ]
    }
}
],
            "execution_count": 89
        }
    ]
}