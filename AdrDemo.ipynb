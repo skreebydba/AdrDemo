{
    "metadata": {
        "kernelspec": {
            "name": "SQL",
            "display_name": "SQL",
            "language": "sql"
        },
        "language_info": {
            "name": "sql",
            "version": ""
        }
    },
    "nbformat_minor": 2,
    "nbformat": 4,
    "cells": [
        {
            "cell_type": "markdown",
            "source": [
                "# A Crash Course in Accelerated Database Recovery\n",
                "\n",
                "Create a database\n",
                "\n",
                "Create a table\n",
                "\n",
                "Insert 1 million rows into the table\n",
                "\n",
                "This script ran for about 30 minutes on my laptop, so..."
            ],
            "metadata": {
                "azdata_cell_guid": "489ee36f-8f52-474e-acc7-31fb93c95a0f"
            }
        },
        {
            "cell_type": "code",
            "source": [
                "USE master;\n",
                "\n",
                "SET NOCOUNT ON;\n",
                "\n",
                "DROP DATABASE IF EXISTS AdrDb;\n",
                "\n",
                "CREATE DATABASE AdrDb;\n",
                "GO\n",
                "\n",
                "DROP TABLE IF EXISTS AdrTest;\n",
                "\n",
                "USE AdrDb;\n",
                "\n",
                "CREATE TABLE AdrTest\n",
                "(RowId INT IDENTITY(1,1)\n",
                ",FirstName NVARCHAR(100)\n",
                ",LastName NVARCHAR(100));\n",
                "\n",
                "DECLARE @loopcount INT, \n",
                "@looplimit INT;\n",
                "\n",
                "SELECT @loopcount = 1, @looplimit = 250000;\n",
                "\n",
                "WHILE @loopcount <= @looplimit\n",
                "BEGIN\n",
                "\n",
                "    INSERT INTO AdrTest\n",
                "    (FirstName\n",
                "    ,LastName)\n",
                "    VALUES\n",
                "    (N'Terence',N'Butler'),\n",
                "    (N'John',N'Osbourne'),\n",
                "    (N'Anthony',N'Iommi'),\n",
                "    (N'William',N'Ward');\n",
                "\n",
                "    SELECT @loopcount += 1;\n",
                "\n",
                "END"
            ],
            "metadata": {
                "azdata_cell_guid": "40ea6d6c-a9ad-4a18-84e5-e0f1f47d6f73"
            },
            "outputs": [
                {
                    "output_type": "display_data",
                    "data": {
                        "text/html": "Commands completed successfully."
                    },
                    "metadata": {}
                },
                {
                    "output_type": "error",
                    "evalue": "Msg 10054, Level 20, State 0, Line 8\r\nA transport-level error has occurred when receiving results from the server. (provider: TCP Provider, error: 0 - An existing connection was forcibly closed by the remote host.)",
                    "ename": "",
                    "traceback": []
                },
                {
                    "output_type": "display_data",
                    "data": {
                        "text/html": "Total execution time: 00:02:35.346"
                    },
                    "metadata": {}
                },
                {
                    "output_type": "display_data",
                    "data": {
                        "text/html": "Total execution time: 00:02:35.346"
                    },
                    "metadata": {}
                }
            ],
            "execution_count": 91
        },
        {
            "cell_type": "markdown",
            "source": [
                "# Backup Database to Default location\n",
                "\n",
                "To prevent having to spend 30 minutes loading data, backup the database to the default backup path\n",
                "\n",
                "For the Linux container I am running on, the default path is <span style=\"color: rgb(163, 21, 21); font-family: Consolas, &quot;Courier New&quot;, monospace; font-size: 16px; white-space: pre;\">/var/opt/mssql/data/</span>"
            ],
            "metadata": {
                "azdata_cell_guid": "3376ca1c-dc81-4301-88eb-e2fc18bb7922"
            }
        },
        {
            "cell_type": "code",
            "source": [
                "USE master\r\n",
                "BACKUP DATABASE AdrDb TO DISK=N'/var/opt/mssql/data/AdrDb.bak';  "
            ],
            "metadata": {
                "azdata_cell_guid": "c98ef502-18d7-486e-beac-29f05f8f10a0"
            },
            "outputs": [],
            "execution_count": null
        },
        {
            "cell_type": "markdown",
            "source": [
                "# Restore Database\n",
                "\n",
                "For subsequent runs of the demo, restore the database from backup"
            ],
            "metadata": {
                "azdata_cell_guid": "c46c8e03-4850-40e1-88bc-3561efe0bbc0"
            }
        },
        {
            "cell_type": "code",
            "source": [
                "USE master;\r\n",
                "\r\n",
                "ALTER DATABASE AdrDb\r\n",
                "SET SINGLE_USER WITH ROLLBACK IMMEDIATE\r\n",
                "\r\n",
                "RESTORE DATABASE AdrDb FROM DISK=N'/var/opt/mssql/data/AdrDb.bak' WITH REPLACE, STATS = 5;"
            ],
            "metadata": {
                "azdata_cell_guid": "782e3ecd-d035-4591-a7d9-9fca6ffc191b"
            },
            "outputs": [],
            "execution_count": null
        },
        {
            "cell_type": "markdown",
            "source": [
                "# Check if Accelerated Database Recovery is Enabled"
            ],
            "metadata": {
                "azdata_cell_guid": "49166c57-6918-49de-ab4d-273c931be94d"
            }
        },
        {
            "cell_type": "code",
            "source": [
                "USE AdrDb;\n",
                "\n",
                "SELECT name, is_accelerated_database_recovery_on\n",
                "FROM sys.databases\n",
                "WHERE name = N'AdrDb';"
            ],
            "metadata": {
                "azdata_cell_guid": "055ce3a6-34ff-46ea-8821-5436dacbaefb"
            },
            "outputs": [],
            "execution_count": null
        },
        {
            "cell_type": "markdown",
            "source": [
                "# Delete Rows without ADR\n",
                "\n",
                "This steo performs the following steps:\n",
                "\n",
                "- Select and store the last log sequence for the database using fn\\_dblog\n",
                "- Delete 250000 rows from the table in an open transaction\n",
                "- Use fn\\_dblog to get a count of the delete operations from the transaction log\n",
                "- Select and store the last log sequence for the database using fn\\_dblog\n",
                "- Rollback the delete transaction\n",
                "- Use fn\\_dblog to get a count of the compensation records from the transaction log"
            ],
            "metadata": {
                "azdata_cell_guid": "6b41639f-c6d0-47d3-bc1e-891c578a6f86"
            }
        },
        {
            "cell_type": "code",
            "source": [
                "USE AdrDb;\r\n",
                "\r\n",
                "DECLARE @maxlsn NVARCHAR(46);\r\n",
                "\r\n",
                "SELECT @maxlsn = CONCAT(N'0x',MAX([Current LSN])) FROM fn_dblog(NULL,NULL);\r\n",
                "\r\n",
                "BEGIN TRANSACTION\r\n",
                "\r\n",
                "DELETE FROM AdrTest\r\n",
                "WHERE LastName = 'Osbourne';\r\n",
                "\r\n",
                "SELECT Operation\r\n",
                ",[Description]\r\n",
                ",AllocUnitName\r\n",
                ",COUNT(*) AS TranCount\r\n",
                "FROM fn_dblog(@maxlsn,NULL)\r\n",
                "WHERE Operation = 'LOP_DELETE_ROWS'\r\n",
                "GROUP BY Operation, [Description],AllocUnitName;\r\n",
                "GO\r\n",
                "\r\n",
                "DECLARE @maxlsn NVARCHAR(46);\r\n",
                "\r\n",
                "SELECT @maxlsn = CONCAT(N'0x',MAX([Current LSN])) FROM fn_dblog(NULL,NULL);\r\n",
                "\r\n",
                "ROLLBACK TRANSACTION;\r\n",
                "\r\n",
                "SELECT Operation\r\n",
                ",[Description]\r\n",
                ",AllocUnitName\r\n",
                ",COUNT(*) AS TranCount\r\n",
                "FROM fn_dblog(@maxlsn,NULL)\r\n",
                "WHERE [Description] = 'Compensation'\r\n",
                "GROUP BY Operation, [Description],AllocUnitName;\r\n",
                "GO"
            ],
            "metadata": {
                "azdata_cell_guid": "bd71132c-1b47-47fa-8351-9dc489910a24",
                "tags": []
            },
            "outputs": [],
            "execution_count": null
        },
        {
            "cell_type": "markdown",
            "source": [
                "# Enable Accelerated Database Recovery"
            ],
            "metadata": {
                "azdata_cell_guid": "33d88449-091b-43b1-98c7-1004a8e820bf"
            }
        },
        {
            "cell_type": "code",
            "source": [
                "USE master;\r\n",
                "\r\n",
                "ALTER DATABASE AdrDb\r\n",
                "SET ACCELERATED_DATABASE_RECOVERY = ON;\r\n",
                "\r\n",
                "SELECT name, is_accelerated_database_recovery_on\r\n",
                "FROM sys.databases\r\n",
                "WHERE name = N'AdrDb';"
            ],
            "metadata": {
                "azdata_cell_guid": "efe610e0-1cb5-4377-8966-23a205df8317"
            },
            "outputs": [],
            "execution_count": null
        },
        {
            "cell_type": "markdown",
            "source": [
                "# Delete Rows with ADR\n",
                "\n",
                "- Select and store the last log sequence for the database using fn\\_dblog\n",
                "- Delete 250000 rows from the table in an open transaction\n",
                "- Use fn\\_dblog to get a count of the delete operations from the transaction log"
            ],
            "metadata": {
                "azdata_cell_guid": "090d11f5-de66-4b23-bac1-b08206687406"
            }
        },
        {
            "cell_type": "code",
            "source": [
                "USE AdrDb;\r\n",
                "\r\n",
                "DECLARE @maxlsn NVARCHAR(46);\r\n",
                "\r\n",
                "SELECT @maxlsn = CONCAT(N'0x',MAX([Current LSN])) FROM fn_dblog(NULL,NULL);\r\n",
                "\r\n",
                "SELECT @maxlsn;\r\n",
                "\r\n",
                "BEGIN TRANSACTION\r\n",
                "\r\n",
                "DELETE FROM AdrTest\r\n",
                "WHERE LastName = 'Osbourne';\r\n",
                "\r\n",
                "-- SELECT Operation\r\n",
                "-- ,[Description]\r\n",
                "-- ,AllocUnitName\r\n",
                "-- ,COUNT(*) AS TranCount\r\n",
                "-- FROM fn_dblog(@maxlsn,NULL)\r\n",
                "-- -- WHERE Operation = 'LOP_INSERT_ROWS'\r\n",
                "-- GROUP BY Operation , [Description], AllocUnitName\r\n",
                "-- ORDER BY COUNT(*) DESC;\r\n",
                "\r\n",
                "-- SELECT  TOP 1 [Page Id] \r\n",
                "-- FROM fn_dblog(@maxlsn,NULL)\r\n",
                "-- WHERE Operation = 'LOP_INSERT_ROWS'\r\n",
                "-- AND AllocUnitName = N'sys.persistent_version_store';\r\n",
                "\r\n",
                "SELECT Operation\r\n",
                ",[Description]\r\n",
                ",AllocUnitName\r\n",
                ",COUNT(*) AS TranCount\r\n",
                "FROM fn_dblog(@maxlsn,NULL)\r\n",
                "WHERE Operation IN ('LOP_DELETE_ROWS', 'LOP_INSERT_ROWS')\r\n",
                "GROUP BY Operation, [Description], AllocUnitName;\r\n",
                "GO"
            ],
            "metadata": {
                "azdata_cell_guid": "464cce4c-7b5d-4f37-a5d6-822f91ea374e"
            },
            "outputs": [],
            "execution_count": null
        },
        {
            "cell_type": "markdown",
            "source": [
                "# Rollback Transaction with ADR\n",
                "\n",
                "- Get the last lsn from the transaction log using fn\\_dblog\n",
                "- Rollback the delete transaction\n",
                "- Get all log records after the delete\n",
                "- Check for compensation records"
            ],
            "metadata": {
                "azdata_cell_guid": "e35ebd9d-8e21-497c-880b-64f0c8d9507a"
            }
        },
        {
            "cell_type": "code",
            "source": [
                "DECLARE @maxlsn NVARCHAR(46);\r\n",
                "\r\n",
                "SELECT @maxlsn = CONCAT(N'0x',MAX([Current LSN])) FROM fn_dblog(NULL,NULL);\r\n",
                "\r\n",
                "ROLLBACK TRANSACTION;\r\n",
                "\r\n",
                "SELECT [Current LSN]\r\n",
                ",[Transaction ID]\r\n",
                ",[Transaction Name]\r\n",
                ",Operation\r\n",
                ",Context\r\n",
                ",[Description]\r\n",
                ",[Previous LSN]\r\n",
                ",AllocUnitName\r\n",
                ",[Page ID]\r\n",
                ",[Slot ID]\r\n",
                ",[Begin Time]\r\n",
                ",[Database Name]\r\n",
                ",[Number of Locks]\r\n",
                ",[Lock Information]\r\n",
                ",[New Split Page]\r\n",
                "FROM fn_dblog(@maxlsn,NULL);\r\n",
                "\r\n",
                "SELECT Operation\r\n",
                ",[Description]\r\n",
                ",COUNT(*) AS TranCount\r\n",
                "FROM fn_dblog(@maxlsn,NULL)\r\n",
                "WHERE [Description] = 'Compensation'\r\n",
                "GROUP BY Operation, [Description];\r\n",
                "GO"
            ],
            "metadata": {
                "azdata_cell_guid": "61071ce6-a990-48a0-9f94-f3700f5eaba6"
            },
            "outputs": [
                {
                    "output_type": "display_data",
                    "data": {
                        "text/html": "(2 rows affected)"
                    },
                    "metadata": {}
                },
                {
                    "output_type": "display_data",
                    "data": {
                        "text/html": "(0 rows affected)"
                    },
                    "metadata": {}
                },
                {
                    "output_type": "display_data",
                    "data": {
                        "text/html": "Total execution time: 00:00:33.200"
                    },
                    "metadata": {}
                },
                {
                    "output_type": "execute_result",
                    "metadata": {
                        "resultSet": {
                            "id": 0,
                            "batchId": 0,
                            "rowCount": 2,
                            "complete": true,
                            "columnInfo": [
                                {
                                    "isBytes": false,
                                    "isChars": true,
                                    "isSqlVariant": false,
                                    "isUdt": false,
                                    "isXml": false,
                                    "isJson": false,
                                    "sqlDbType": 12,
                                    "isHierarchyId": false,
                                    "isSqlXmlType": false,
                                    "isUnknownType": false,
                                    "isUpdatable": true,
                                    "allowDBNull": false,
                                    "baseCatalogName": null,
                                    "baseColumnName": null,
                                    "baseSchemaName": null,
                                    "baseServerName": null,
                                    "baseTableName": null,
                                    "columnName": "Current LSN",
                                    "columnOrdinal": 0,
                                    "columnSize": 23,
                                    "isAliased": null,
                                    "isAutoIncrement": false,
                                    "isExpression": null,
                                    "isHidden": null,
                                    "isIdentity": false,
                                    "isKey": null,
                                    "isLong": false,
                                    "isReadOnly": false,
                                    "isUnique": false,
                                    "numericPrecision": 255,
                                    "numericScale": 255,
                                    "udtAssemblyQualifiedName": null,
                                    "dataType": "System.String, System.Private.CoreLib, Version=4.0.0.0, Culture=neutral, PublicKeyToken=7cec85d7bea7798e",
                                    "dataTypeName": "nvarchar"
                                },
                                {
                                    "isBytes": false,
                                    "isChars": true,
                                    "isSqlVariant": false,
                                    "isUdt": false,
                                    "isXml": false,
                                    "isJson": false,
                                    "sqlDbType": 12,
                                    "isHierarchyId": false,
                                    "isSqlXmlType": false,
                                    "isUnknownType": false,
                                    "isUpdatable": true,
                                    "allowDBNull": false,
                                    "baseCatalogName": null,
                                    "baseColumnName": null,
                                    "baseSchemaName": null,
                                    "baseServerName": null,
                                    "baseTableName": null,
                                    "columnName": "Transaction ID",
                                    "columnOrdinal": 1,
                                    "columnSize": 14,
                                    "isAliased": null,
                                    "isAutoIncrement": false,
                                    "isExpression": null,
                                    "isHidden": null,
                                    "isIdentity": false,
                                    "isKey": null,
                                    "isLong": false,
                                    "isReadOnly": false,
                                    "isUnique": false,
                                    "numericPrecision": 255,
                                    "numericScale": 255,
                                    "udtAssemblyQualifiedName": null,
                                    "dataType": "System.String, System.Private.CoreLib, Version=4.0.0.0, Culture=neutral, PublicKeyToken=7cec85d7bea7798e",
                                    "dataTypeName": "nvarchar"
                                },
                                {
                                    "isBytes": false,
                                    "isChars": true,
                                    "isSqlVariant": false,
                                    "isUdt": false,
                                    "isXml": false,
                                    "isJson": false,
                                    "sqlDbType": 12,
                                    "isHierarchyId": false,
                                    "isSqlXmlType": false,
                                    "isUnknownType": false,
                                    "isUpdatable": true,
                                    "allowDBNull": true,
                                    "baseCatalogName": null,
                                    "baseColumnName": null,
                                    "baseSchemaName": null,
                                    "baseServerName": null,
                                    "baseTableName": null,
                                    "columnName": "Transaction Name",
                                    "columnOrdinal": 2,
                                    "columnSize": 33,
                                    "isAliased": null,
                                    "isAutoIncrement": false,
                                    "isExpression": null,
                                    "isHidden": null,
                                    "isIdentity": false,
                                    "isKey": null,
                                    "isLong": false,
                                    "isReadOnly": false,
                                    "isUnique": false,
                                    "numericPrecision": 255,
                                    "numericScale": 255,
                                    "udtAssemblyQualifiedName": null,
                                    "dataType": "System.String, System.Private.CoreLib, Version=4.0.0.0, Culture=neutral, PublicKeyToken=7cec85d7bea7798e",
                                    "dataTypeName": "nvarchar"
                                },
                                {
                                    "isBytes": false,
                                    "isChars": true,
                                    "isSqlVariant": false,
                                    "isUdt": false,
                                    "isXml": false,
                                    "isJson": false,
                                    "sqlDbType": 12,
                                    "isHierarchyId": false,
                                    "isSqlXmlType": false,
                                    "isUnknownType": false,
                                    "isUpdatable": true,
                                    "allowDBNull": false,
                                    "baseCatalogName": null,
                                    "baseColumnName": null,
                                    "baseSchemaName": null,
                                    "baseServerName": null,
                                    "baseTableName": null,
                                    "columnName": "Operation",
                                    "columnOrdinal": 3,
                                    "columnSize": 31,
                                    "isAliased": null,
                                    "isAutoIncrement": false,
                                    "isExpression": null,
                                    "isHidden": null,
                                    "isIdentity": false,
                                    "isKey": null,
                                    "isLong": false,
                                    "isReadOnly": false,
                                    "isUnique": false,
                                    "numericPrecision": 255,
                                    "numericScale": 255,
                                    "udtAssemblyQualifiedName": null,
                                    "dataType": "System.String, System.Private.CoreLib, Version=4.0.0.0, Culture=neutral, PublicKeyToken=7cec85d7bea7798e",
                                    "dataTypeName": "nvarchar"
                                },
                                {
                                    "isBytes": false,
                                    "isChars": true,
                                    "isSqlVariant": false,
                                    "isUdt": false,
                                    "isXml": false,
                                    "isJson": false,
                                    "sqlDbType": 12,
                                    "isHierarchyId": false,
                                    "isSqlXmlType": false,
                                    "isUnknownType": false,
                                    "isUpdatable": true,
                                    "allowDBNull": false,
                                    "baseCatalogName": null,
                                    "baseColumnName": null,
                                    "baseSchemaName": null,
                                    "baseServerName": null,
                                    "baseTableName": null,
                                    "columnName": "Context",
                                    "columnOrdinal": 4,
                                    "columnSize": 31,
                                    "isAliased": null,
                                    "isAutoIncrement": false,
                                    "isExpression": null,
                                    "isHidden": null,
                                    "isIdentity": false,
                                    "isKey": null,
                                    "isLong": false,
                                    "isReadOnly": false,
                                    "isUnique": false,
                                    "numericPrecision": 255,
                                    "numericScale": 255,
                                    "udtAssemblyQualifiedName": null,
                                    "dataType": "System.String, System.Private.CoreLib, Version=4.0.0.0, Culture=neutral, PublicKeyToken=7cec85d7bea7798e",
                                    "dataTypeName": "nvarchar"
                                },
                                {
                                    "isBytes": false,
                                    "isChars": true,
                                    "isSqlVariant": false,
                                    "isUdt": false,
                                    "isXml": false,
                                    "isJson": false,
                                    "sqlDbType": 12,
                                    "isHierarchyId": false,
                                    "isSqlXmlType": false,
                                    "isUnknownType": false,
                                    "isUpdatable": true,
                                    "allowDBNull": false,
                                    "baseCatalogName": null,
                                    "baseColumnName": null,
                                    "baseSchemaName": null,
                                    "baseServerName": null,
                                    "baseTableName": null,
                                    "columnName": "Description",
                                    "columnOrdinal": 5,
                                    "columnSize": 256,
                                    "isAliased": null,
                                    "isAutoIncrement": false,
                                    "isExpression": null,
                                    "isHidden": null,
                                    "isIdentity": false,
                                    "isKey": null,
                                    "isLong": false,
                                    "isReadOnly": false,
                                    "isUnique": false,
                                    "numericPrecision": 255,
                                    "numericScale": 255,
                                    "udtAssemblyQualifiedName": null,
                                    "dataType": "System.String, System.Private.CoreLib, Version=4.0.0.0, Culture=neutral, PublicKeyToken=7cec85d7bea7798e",
                                    "dataTypeName": "nvarchar"
                                },
                                {
                                    "isBytes": false,
                                    "isChars": true,
                                    "isSqlVariant": false,
                                    "isUdt": false,
                                    "isXml": false,
                                    "isJson": false,
                                    "sqlDbType": 12,
                                    "isHierarchyId": false,
                                    "isSqlXmlType": false,
                                    "isUnknownType": false,
                                    "isUpdatable": true,
                                    "allowDBNull": false,
                                    "baseCatalogName": null,
                                    "baseColumnName": null,
                                    "baseSchemaName": null,
                                    "baseServerName": null,
                                    "baseTableName": null,
                                    "columnName": "Previous LSN",
                                    "columnOrdinal": 6,
                                    "columnSize": 23,
                                    "isAliased": null,
                                    "isAutoIncrement": false,
                                    "isExpression": null,
                                    "isHidden": null,
                                    "isIdentity": false,
                                    "isKey": null,
                                    "isLong": false,
                                    "isReadOnly": false,
                                    "isUnique": false,
                                    "numericPrecision": 255,
                                    "numericScale": 255,
                                    "udtAssemblyQualifiedName": null,
                                    "dataType": "System.String, System.Private.CoreLib, Version=4.0.0.0, Culture=neutral, PublicKeyToken=7cec85d7bea7798e",
                                    "dataTypeName": "nvarchar"
                                },
                                {
                                    "isBytes": false,
                                    "isChars": true,
                                    "isSqlVariant": false,
                                    "isUdt": false,
                                    "isXml": false,
                                    "isJson": false,
                                    "sqlDbType": 12,
                                    "isHierarchyId": false,
                                    "isSqlXmlType": false,
                                    "isUnknownType": false,
                                    "isUpdatable": true,
                                    "allowDBNull": true,
                                    "baseCatalogName": null,
                                    "baseColumnName": null,
                                    "baseSchemaName": null,
                                    "baseServerName": null,
                                    "baseTableName": null,
                                    "columnName": "AllocUnitName",
                                    "columnOrdinal": 7,
                                    "columnSize": 387,
                                    "isAliased": null,
                                    "isAutoIncrement": false,
                                    "isExpression": null,
                                    "isHidden": null,
                                    "isIdentity": false,
                                    "isKey": null,
                                    "isLong": false,
                                    "isReadOnly": false,
                                    "isUnique": false,
                                    "numericPrecision": 255,
                                    "numericScale": 255,
                                    "udtAssemblyQualifiedName": null,
                                    "dataType": "System.String, System.Private.CoreLib, Version=4.0.0.0, Culture=neutral, PublicKeyToken=7cec85d7bea7798e",
                                    "dataTypeName": "nvarchar"
                                },
                                {
                                    "isBytes": false,
                                    "isChars": true,
                                    "isSqlVariant": false,
                                    "isUdt": false,
                                    "isXml": false,
                                    "isJson": false,
                                    "sqlDbType": 12,
                                    "isHierarchyId": false,
                                    "isSqlXmlType": false,
                                    "isUnknownType": false,
                                    "isUpdatable": true,
                                    "allowDBNull": true,
                                    "baseCatalogName": null,
                                    "baseColumnName": null,
                                    "baseSchemaName": null,
                                    "baseServerName": null,
                                    "baseTableName": null,
                                    "columnName": "Page ID",
                                    "columnOrdinal": 8,
                                    "columnSize": 14,
                                    "isAliased": null,
                                    "isAutoIncrement": false,
                                    "isExpression": null,
                                    "isHidden": null,
                                    "isIdentity": false,
                                    "isKey": null,
                                    "isLong": false,
                                    "isReadOnly": false,
                                    "isUnique": false,
                                    "numericPrecision": 255,
                                    "numericScale": 255,
                                    "udtAssemblyQualifiedName": null,
                                    "dataType": "System.String, System.Private.CoreLib, Version=4.0.0.0, Culture=neutral, PublicKeyToken=7cec85d7bea7798e",
                                    "dataTypeName": "nvarchar"
                                },
                                {
                                    "isBytes": false,
                                    "isChars": false,
                                    "isSqlVariant": false,
                                    "isUdt": false,
                                    "isXml": false,
                                    "isJson": false,
                                    "sqlDbType": 8,
                                    "isHierarchyId": false,
                                    "isSqlXmlType": false,
                                    "isUnknownType": false,
                                    "isUpdatable": true,
                                    "allowDBNull": true,
                                    "baseCatalogName": null,
                                    "baseColumnName": null,
                                    "baseSchemaName": null,
                                    "baseServerName": null,
                                    "baseTableName": null,
                                    "columnName": "Slot ID",
                                    "columnOrdinal": 9,
                                    "columnSize": 4,
                                    "isAliased": null,
                                    "isAutoIncrement": false,
                                    "isExpression": null,
                                    "isHidden": null,
                                    "isIdentity": false,
                                    "isKey": null,
                                    "isLong": false,
                                    "isReadOnly": false,
                                    "isUnique": false,
                                    "numericPrecision": 10,
                                    "numericScale": 255,
                                    "udtAssemblyQualifiedName": null,
                                    "dataType": "System.Int32, System.Private.CoreLib, Version=4.0.0.0, Culture=neutral, PublicKeyToken=7cec85d7bea7798e",
                                    "dataTypeName": "int"
                                },
                                {
                                    "isBytes": false,
                                    "isChars": true,
                                    "isSqlVariant": false,
                                    "isUdt": false,
                                    "isXml": false,
                                    "isJson": false,
                                    "sqlDbType": 12,
                                    "isHierarchyId": false,
                                    "isSqlXmlType": false,
                                    "isUnknownType": false,
                                    "isUpdatable": true,
                                    "allowDBNull": true,
                                    "baseCatalogName": null,
                                    "baseColumnName": null,
                                    "baseSchemaName": null,
                                    "baseServerName": null,
                                    "baseTableName": null,
                                    "columnName": "Begin Time",
                                    "columnOrdinal": 10,
                                    "columnSize": 24,
                                    "isAliased": null,
                                    "isAutoIncrement": false,
                                    "isExpression": null,
                                    "isHidden": null,
                                    "isIdentity": false,
                                    "isKey": null,
                                    "isLong": false,
                                    "isReadOnly": false,
                                    "isUnique": false,
                                    "numericPrecision": 255,
                                    "numericScale": 255,
                                    "udtAssemblyQualifiedName": null,
                                    "dataType": "System.String, System.Private.CoreLib, Version=4.0.0.0, Culture=neutral, PublicKeyToken=7cec85d7bea7798e",
                                    "dataTypeName": "nvarchar"
                                },
                                {
                                    "isBytes": false,
                                    "isChars": true,
                                    "isSqlVariant": false,
                                    "isUdt": false,
                                    "isXml": false,
                                    "isJson": false,
                                    "sqlDbType": 12,
                                    "isHierarchyId": false,
                                    "isSqlXmlType": false,
                                    "isUnknownType": false,
                                    "isUpdatable": true,
                                    "allowDBNull": true,
                                    "baseCatalogName": null,
                                    "baseColumnName": null,
                                    "baseSchemaName": null,
                                    "baseServerName": null,
                                    "baseTableName": null,
                                    "columnName": "Database Name",
                                    "columnOrdinal": 11,
                                    "columnSize": 129,
                                    "isAliased": null,
                                    "isAutoIncrement": false,
                                    "isExpression": null,
                                    "isHidden": null,
                                    "isIdentity": false,
                                    "isKey": null,
                                    "isLong": false,
                                    "isReadOnly": false,
                                    "isUnique": false,
                                    "numericPrecision": 255,
                                    "numericScale": 255,
                                    "udtAssemblyQualifiedName": null,
                                    "dataType": "System.String, System.Private.CoreLib, Version=4.0.0.0, Culture=neutral, PublicKeyToken=7cec85d7bea7798e",
                                    "dataTypeName": "nvarchar"
                                },
                                {
                                    "isBytes": false,
                                    "isChars": false,
                                    "isSqlVariant": false,
                                    "isUdt": false,
                                    "isXml": false,
                                    "isJson": false,
                                    "sqlDbType": 16,
                                    "isHierarchyId": false,
                                    "isSqlXmlType": false,
                                    "isUnknownType": false,
                                    "isUpdatable": true,
                                    "allowDBNull": true,
                                    "baseCatalogName": null,
                                    "baseColumnName": null,
                                    "baseSchemaName": null,
                                    "baseServerName": null,
                                    "baseTableName": null,
                                    "columnName": "Number of Locks",
                                    "columnOrdinal": 12,
                                    "columnSize": 2,
                                    "isAliased": null,
                                    "isAutoIncrement": false,
                                    "isExpression": null,
                                    "isHidden": null,
                                    "isIdentity": false,
                                    "isKey": null,
                                    "isLong": false,
                                    "isReadOnly": false,
                                    "isUnique": false,
                                    "numericPrecision": 5,
                                    "numericScale": 255,
                                    "udtAssemblyQualifiedName": null,
                                    "dataType": "System.Int16, System.Private.CoreLib, Version=4.0.0.0, Culture=neutral, PublicKeyToken=7cec85d7bea7798e",
                                    "dataTypeName": "smallint"
                                },
                                {
                                    "isBytes": false,
                                    "isChars": true,
                                    "isSqlVariant": false,
                                    "isUdt": false,
                                    "isXml": false,
                                    "isJson": false,
                                    "sqlDbType": 12,
                                    "isHierarchyId": false,
                                    "isSqlXmlType": false,
                                    "isUnknownType": false,
                                    "isUpdatable": true,
                                    "allowDBNull": true,
                                    "baseCatalogName": null,
                                    "baseColumnName": null,
                                    "baseSchemaName": null,
                                    "baseServerName": null,
                                    "baseTableName": null,
                                    "columnName": "Lock Information",
                                    "columnOrdinal": 13,
                                    "columnSize": 256,
                                    "isAliased": null,
                                    "isAutoIncrement": false,
                                    "isExpression": null,
                                    "isHidden": null,
                                    "isIdentity": false,
                                    "isKey": null,
                                    "isLong": false,
                                    "isReadOnly": false,
                                    "isUnique": false,
                                    "numericPrecision": 255,
                                    "numericScale": 255,
                                    "udtAssemblyQualifiedName": null,
                                    "dataType": "System.String, System.Private.CoreLib, Version=4.0.0.0, Culture=neutral, PublicKeyToken=7cec85d7bea7798e",
                                    "dataTypeName": "nvarchar"
                                },
                                {
                                    "isBytes": false,
                                    "isChars": true,
                                    "isSqlVariant": false,
                                    "isUdt": false,
                                    "isXml": false,
                                    "isJson": false,
                                    "sqlDbType": 12,
                                    "isHierarchyId": false,
                                    "isSqlXmlType": false,
                                    "isUnknownType": false,
                                    "isUpdatable": true,
                                    "allowDBNull": true,
                                    "baseCatalogName": null,
                                    "baseColumnName": null,
                                    "baseSchemaName": null,
                                    "baseServerName": null,
                                    "baseTableName": null,
                                    "columnName": "New Split Page",
                                    "columnOrdinal": 14,
                                    "columnSize": 14,
                                    "isAliased": null,
                                    "isAutoIncrement": false,
                                    "isExpression": null,
                                    "isHidden": null,
                                    "isIdentity": false,
                                    "isKey": null,
                                    "isLong": false,
                                    "isReadOnly": false,
                                    "isUnique": false,
                                    "numericPrecision": 255,
                                    "numericScale": 255,
                                    "udtAssemblyQualifiedName": null,
                                    "dataType": "System.String, System.Private.CoreLib, Version=4.0.0.0, Culture=neutral, PublicKeyToken=7cec85d7bea7798e",
                                    "dataTypeName": "nvarchar"
                                }
                            ],
                            "specialAction": {
                                "none": true,
                                "expectYukonXMLShowPlan": false
                            }
                        }
                    },
                    "execution_count": 89,
                    "data": {
                        "application/vnd.dataresource+json": {
                            "schema": {
                                "fields": [
                                    {
                                        "name": "Current LSN"
                                    },
                                    {
                                        "name": "Transaction ID"
                                    },
                                    {
                                        "name": "Transaction Name"
                                    },
                                    {
                                        "name": "Operation"
                                    },
                                    {
                                        "name": "Context"
                                    },
                                    {
                                        "name": "Description"
                                    },
                                    {
                                        "name": "Previous LSN"
                                    },
                                    {
                                        "name": "AllocUnitName"
                                    },
                                    {
                                        "name": "Page ID"
                                    },
                                    {
                                        "name": "Slot ID"
                                    },
                                    {
                                        "name": "Begin Time"
                                    },
                                    {
                                        "name": "Database Name"
                                    },
                                    {
                                        "name": "Number of Locks"
                                    },
                                    {
                                        "name": "Lock Information"
                                    },
                                    {
                                        "name": "New Split Page"
                                    }
                                ]
                            },
                            "data": [
                                {
                                    "0": "0000008e:00005130:0173",
                                    "1": "0000:00041b06",
                                    "2": "NULL",
                                    "3": "LOP_DELETE_ROWS",
                                    "4": "LCX_HEAP",
                                    "5": "",
                                    "6": "0000008e:00005130:0172",
                                    "7": "dbo.AdrTest",
                                    "8": "0001:0000301a",
                                    "9": "31",
                                    "10": "NULL",
                                    "11": "NULL",
                                    "12": "1",
                                    "13": "HoBt 72057594043170816:ACQUIRE_LOCK_X OBJECT: 5:581577110:0 ",
                                    "14": "NULL"
                                },
                                {
                                    "0": "0000008e:00005130:0174",
                                    "1": "0000:00041b06",
                                    "2": "NULL",
                                    "3": "LOP_ABORT_XACT",
                                    "4": "LCX_CTR_ABORTED",
                                    "5": "2021/02/17 22:40:58:223",
                                    "6": "00000086:00001e38:0001",
                                    "7": "NULL",
                                    "8": "NULL",
                                    "9": "NULL",
                                    "10": "NULL",
                                    "11": "none",
                                    "12": "NULL",
                                    "13": "NULL",
                                    "14": "NULL"
                                }
                            ]
                        },
                        "text/html": [
                            "<table>",
                            "<tr><th>Current LSN</th><th>Transaction ID</th><th>Transaction Name</th><th>Operation</th><th>Context</th><th>Description</th><th>Previous LSN</th><th>AllocUnitName</th><th>Page ID</th><th>Slot ID</th><th>Begin Time</th><th>Database Name</th><th>Number of Locks</th><th>Lock Information</th><th>New Split Page</th></tr>",
                            "<tr><td>0000008e:00005130:0173</td><td>0000:00041b06</td><td>NULL</td><td>LOP_DELETE_ROWS</td><td>LCX_HEAP</td><td></td><td>0000008e:00005130:0172</td><td>dbo.AdrTest</td><td>0001:0000301a</td><td>31</td><td>NULL</td><td>NULL</td><td>1</td><td>HoBt 72057594043170816:ACQUIRE_LOCK_X OBJECT: 5:581577110:0 </td><td>NULL</td></tr>",
                            "<tr><td>0000008e:00005130:0174</td><td>0000:00041b06</td><td>NULL</td><td>LOP_ABORT_XACT</td><td>LCX_CTR_ABORTED</td><td>2021/02/17 22:40:58:223</td><td>00000086:00001e38:0001</td><td>NULL</td><td>NULL</td><td>NULL</td><td>NULL</td><td>none</td><td>NULL</td><td>NULL</td><td>NULL</td></tr>",
                            "</table>"
                        ]
                    }
                },
                {
                    "output_type": "execute_result",
                    "metadata": {
                        "resultSet": {
                            "id": 1,
                            "batchId": 0,
                            "rowCount": 0,
                            "complete": false,
                            "columnInfo": [
                                {
                                    "isBytes": false,
                                    "isChars": true,
                                    "isSqlVariant": false,
                                    "isUdt": false,
                                    "isXml": false,
                                    "isJson": false,
                                    "sqlDbType": 12,
                                    "isHierarchyId": false,
                                    "isSqlXmlType": false,
                                    "isUnknownType": false,
                                    "isUpdatable": true,
                                    "allowDBNull": false,
                                    "baseCatalogName": null,
                                    "baseColumnName": null,
                                    "baseSchemaName": null,
                                    "baseServerName": null,
                                    "baseTableName": null,
                                    "columnName": "Operation",
                                    "columnOrdinal": 0,
                                    "columnSize": 31,
                                    "isAliased": null,
                                    "isAutoIncrement": false,
                                    "isExpression": null,
                                    "isHidden": null,
                                    "isIdentity": false,
                                    "isKey": null,
                                    "isLong": false,
                                    "isReadOnly": false,
                                    "isUnique": false,
                                    "numericPrecision": 255,
                                    "numericScale": 255,
                                    "udtAssemblyQualifiedName": null,
                                    "dataType": "System.String, System.Private.CoreLib, Version=4.0.0.0, Culture=neutral, PublicKeyToken=7cec85d7bea7798e",
                                    "dataTypeName": "nvarchar"
                                },
                                {
                                    "isBytes": false,
                                    "isChars": true,
                                    "isSqlVariant": false,
                                    "isUdt": false,
                                    "isXml": false,
                                    "isJson": false,
                                    "sqlDbType": 12,
                                    "isHierarchyId": false,
                                    "isSqlXmlType": false,
                                    "isUnknownType": false,
                                    "isUpdatable": true,
                                    "allowDBNull": false,
                                    "baseCatalogName": null,
                                    "baseColumnName": null,
                                    "baseSchemaName": null,
                                    "baseServerName": null,
                                    "baseTableName": null,
                                    "columnName": "Description",
                                    "columnOrdinal": 1,
                                    "columnSize": 256,
                                    "isAliased": null,
                                    "isAutoIncrement": false,
                                    "isExpression": null,
                                    "isHidden": null,
                                    "isIdentity": false,
                                    "isKey": null,
                                    "isLong": false,
                                    "isReadOnly": false,
                                    "isUnique": false,
                                    "numericPrecision": 255,
                                    "numericScale": 255,
                                    "udtAssemblyQualifiedName": null,
                                    "dataType": "System.String, System.Private.CoreLib, Version=4.0.0.0, Culture=neutral, PublicKeyToken=7cec85d7bea7798e",
                                    "dataTypeName": "nvarchar"
                                },
                                {
                                    "isBytes": false,
                                    "isChars": false,
                                    "isSqlVariant": false,
                                    "isUdt": false,
                                    "isXml": false,
                                    "isJson": false,
                                    "sqlDbType": 8,
                                    "isHierarchyId": false,
                                    "isSqlXmlType": false,
                                    "isUnknownType": false,
                                    "isUpdatable": false,
                                    "allowDBNull": true,
                                    "baseCatalogName": null,
                                    "baseColumnName": null,
                                    "baseSchemaName": null,
                                    "baseServerName": null,
                                    "baseTableName": null,
                                    "columnName": "TranCount",
                                    "columnOrdinal": 2,
                                    "columnSize": 4,
                                    "isAliased": null,
                                    "isAutoIncrement": false,
                                    "isExpression": null,
                                    "isHidden": null,
                                    "isIdentity": false,
                                    "isKey": null,
                                    "isLong": false,
                                    "isReadOnly": true,
                                    "isUnique": false,
                                    "numericPrecision": 10,
                                    "numericScale": 255,
                                    "udtAssemblyQualifiedName": null,
                                    "dataType": "System.Int32, System.Private.CoreLib, Version=4.0.0.0, Culture=neutral, PublicKeyToken=7cec85d7bea7798e",
                                    "dataTypeName": "int"
                                }
                            ],
                            "specialAction": null
                        }
                    },
                    "execution_count": 89,
                    "data": {
                        "application/vnd.dataresource+json": {
                            "schema": {
                                "fields": [
                                    {
                                        "name": "Operation"
                                    },
                                    {
                                        "name": "Description"
                                    },
                                    {
                                        "name": "TranCount"
                                    }
                                ]
                            },
                            "data": []
                        },
                        "text/html": [
                            "<table>",
                            "<tr><th>Operation</th><th>Description</th><th>TranCount</th></tr>",
                            "</table>"
                        ]
                    }
                }
            ],
            "execution_count": 89
        }
    ]
}